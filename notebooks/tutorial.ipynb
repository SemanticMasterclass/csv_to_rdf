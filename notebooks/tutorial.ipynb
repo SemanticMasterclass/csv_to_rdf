{
 "cells": [
  {
   "cell_type": "markdown",
   "metadata": {},
   "source": [
    "# A basic tutorial to create RDF data from a CSV file\n",
    "\n",
    "Crucial in the construction of a knowledge graph is to turn input data into linked data by using schemas as connectors.\n",
    "\n",
    "Today we are going to use a popular python library `kglab` to convert CSV file to RDF file. The first step is to import this library. \n",
    "\n",
    "IMPORTANT NOTE: at the moment `kglab` requires python 3.10, hence, choose python 3.10 once prompted to choose the environment."
   ]
  },
  {
   "cell_type": "code",
   "execution_count": null,
   "metadata": {},
   "outputs": [],
   "source": [
    "import kglab"
   ]
  },
  {
   "cell_type": "markdown",
   "metadata": {},
   "source": [
    "### The CSV file\n",
    "\n",
    "The CSV file we are going to convert is in `/data/amazon_books.csv` and contains a small database of books sold on Amazon. The CSV file is already cleaned and ready to use.\n",
    "\n",
    "Let's use the pandas library to see the content of the CSV file:"
   ]
  },
  {
   "cell_type": "code",
   "execution_count": null,
   "metadata": {},
   "outputs": [],
   "source": [
    "import pandas as pd\n",
    "\n",
    "#Read the CSV file\n",
    "csv_data = pd.read_csv(\"data/amazon_books.csv\")\n",
    "\n",
    "# Preview of the CSV file\n",
    "csv_data"
   ]
  },
  {
   "cell_type": "markdown",
   "metadata": {},
   "source": [
    "So, looking at the header and the values of our csv file, we would like our rdf model to be something like:\n",
    "\n",
    "```\n",
    "$(id) a ex:Book .\n",
    "$(id) rdfs:label $(bookName) .\n",
    "$(id) ex:authorLabel $(author) .\n",
    "$(id) ex:hasPrice $(price) . # with the price to be a xsd:decimal\n",
    "$(id) ex:hasCurrency $(currency) .\n",
    "$(id) ex:hasCustomerRatings $(customerRatings) . # with the customerRatings to be an xsd:integer\n",
    "$(id) ex:hasRating $(rating) . # with the rating to be a xsd:decimal\n",
    "$(id) ex:hasBookCover $(bookCover) .\n",
    "```\n",
    "\n",
    "NOTE: The syntax `$()` point to the column label of the CSV file.\n",
    "\n",
    "So, this method allows us to create a mapping file where we can define this mapping. Let's go to the repository `mapping` and fill the `main_mapping.yml` file.\n",
    "\n",
    "Note: Try to get familiar with the YARRRML docs [here](https://rml.io/yarrrml/tutorial/getting-started/). In particular, you can see an example of a complete YARRRML file in [section 11](https://rml.io/yarrrml/tutorial/getting-started/#complete-yarrrml-document)."
   ]
  },
  {
   "cell_type": "markdown",
   "metadata": {},
   "source": [
    "\n",
    "### Create the rdf file\n",
    "\n",
    "Now, let's define all the namespaces that we are going to use in our file and crate the knowledge graph `kg`"
   ]
  },
  {
   "cell_type": "code",
   "execution_count": null,
   "metadata": {},
   "outputs": [],
   "source": [
    "namespaces = {\n",
    "    \"ex\":  \"http://example.com/\",\n",
    "    \"schema\": \"https://schema.org/\",\n",
    "    \"owl\": \"http://www.w3.org/2002/07/owl#\",\n",
    "    \"rdf\": \"http://www.w3.org/1999/02/22-rdf-syntax-ns#\",\n",
    "    \"rdfs\": \"http://www.w3.org/2000/01/rdf-schema#\",\n",
    "    \"skos\": \"http://www.w3.org/2004/02/skos/core#\",\n",
    "    \"xsd\": \"http://www.w3.org/2001/XMLSchema#\"\n",
    "    }\n",
    "\n",
    "kg = kglab.KnowledgeGraph(\n",
    "    name = \"A KG example\",\n",
    "    namespaces = namespaces\n",
    "    )"
   ]
  },
  {
   "cell_type": "markdown",
   "metadata": {},
   "source": [
    "Let's now create an RDF file using the data of the CSV following the schema described in the mapping file we've just created"
   ]
  },
  {
   "cell_type": "code",
   "execution_count": null,
   "metadata": {},
   "outputs": [],
   "source": [
    "kg.materialize('morph_configs/main_config.ini')"
   ]
  },
  {
   "cell_type": "markdown",
   "metadata": {},
   "source": [
    "Initialise the .ttl file"
   ]
  },
  {
   "cell_type": "code",
   "execution_count": null,
   "metadata": {},
   "outputs": [],
   "source": [
    "kg.load_rdf('data/books.ttl')"
   ]
  },
  {
   "cell_type": "markdown",
   "metadata": {},
   "source": [
    "Now let's create the graph and the .ttl file that store our knowledge graph"
   ]
  },
  {
   "cell_type": "code",
   "execution_count": null,
   "metadata": {},
   "outputs": [],
   "source": [
    "# Define a dictionary called VIS_STYLE that specifies visualization styles for different types of nodes in the graph\n",
    "VIS_STYLE = {\n",
    "    \"owl\": {\n",
    "        \"color\": \"orange\",\n",
    "        \"size\": 20,\n",
    "    },\n",
    "    \"ex\":{\n",
    "        \"color\": \"blue\",\n",
    "        \"size\": 35,\n",
    "    },\n",
    "}\n",
    "\n",
    "# Create a SubgraphTensor object from the knowledge graph, which allows for tensor-based operations on the graph\n",
    "subgraph = kglab.SubgraphTensor(kg)\n",
    "\n",
    "# Build a PyVis graph object from the SubgraphTensor, specifying that it should be rendered in a Jupyter notebook and using the VIS_STYLE dictionary for node styling\n",
    "pyvis_graph = subgraph.build_pyvis_graph(notebook=True, style=VIS_STYLE)\n",
    "\n",
    "# Apply a force-directed graph layout algorithm (Force Atlas 2) to the PyVis graph\n",
    "pyvis_graph.force_atlas_2based()\n",
    "\n",
    "# Save the PyVis graph as an HTML file\n",
    "pyvis_graph.show('output/graph.html')\n",
    "\n",
    "# Save the knowledge graph as a TTL (Turtle) file\n",
    "kg.save_rdf('output/triples.ttl')\n",
    "\n",
    "# Convert triples to string and print\n",
    "ttl = kg.save_rdf_text()\n",
    "print(ttl)"
   ]
  },
  {
   "cell_type": "markdown",
   "metadata": {},
   "source": [
    "### Query\n",
    "\n",
    "Now that we have the knowledge graph, let's try to query it using SPARQL queries.\n",
    "\n",
    "NOTE: When working with SPARQL, make sure you specified all the datatype and you are consistent with them throughout. If you're not seeing the results you expect, maybe your triples have an incorrect datatype, which can lead to unintuitive behaviour when comparing.\n",
    "\n",
    "Let's run a generic SPARQL query:"
   ]
  },
  {
   "cell_type": "code",
   "execution_count": null,
   "metadata": {},
   "outputs": [],
   "source": [
    "kg.query_as_df('''\n",
    "SELECT ?subject ?predicate ?object \n",
    "WHERE {\n",
    "    ?subject ?predicate ?object .\n",
    "}\n",
    "''')"
   ]
  },
  {
   "cell_type": "markdown",
   "metadata": {},
   "source": [
    "Let's now query for all the books (labels) of the books with ratings higher than 4.8."
   ]
  },
  {
   "cell_type": "code",
   "execution_count": null,
   "metadata": {},
   "outputs": [],
   "source": [
    "kg.query_as_df('''\n",
    "# list the books that has rating higher than 4.8 (show also the rating)\n",
    "\n",
    "ADD YOUR SPARQL QUERY HERE \n",
    "\n",
    "''')"
   ]
  },
  {
   "cell_type": "markdown",
   "metadata": {},
   "source": [
    "Same query here, but try to sort the result in alphabetical order."
   ]
  },
  {
   "cell_type": "code",
   "execution_count": null,
   "metadata": {},
   "outputs": [],
   "source": [
    "kg.query_as_df('''\n",
    "# list the books that has rating higher than 4.8 and order alphabetically\n",
    "\n",
    "ADD YOUR SPARQL QUERY HERE \n",
    "\n",
    "''')"
   ]
  },
  {
   "cell_type": "markdown",
   "metadata": {},
   "source": [
    "Now show another possible SPARQL query."
   ]
  },
  {
   "cell_type": "code",
   "execution_count": null,
   "metadata": {},
   "outputs": [],
   "source": [
    "kg.query_as_df('''\n",
    "\n",
    "ADD YOUR SPARQL QUERY HERE \n",
    "\n",
    "''')"
   ]
  }
 ],
 "metadata": {
  "kernelspec": {
   "display_name": "Python 3",
   "language": "python",
   "name": "python3"
  },
  "language_info": {
   "codemirror_mode": {
    "name": "ipython",
    "version": 3
   },
   "file_extension": ".py",
   "mimetype": "text/x-python",
   "name": "python",
   "nbconvert_exporter": "python",
   "pygments_lexer": "ipython3",
   "version": "3.10.13"
  }
 },
 "nbformat": 4,
 "nbformat_minor": 2
}
